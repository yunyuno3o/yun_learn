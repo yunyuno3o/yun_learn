{
 "cells": [
  {
   "cell_type": "code",
   "execution_count": 2,
   "metadata": {},
   "outputs": [],
   "source": [
    "import tensorflow as tf\n",
    "import numpy as np\n",
    "\n",
    "#cross_entroyp_with_logits 이용\n",
    "#logits = tf.matmul(X, W) + b\n",
    "#hypothesis = tf.nn.softmax(logits)\n",
    "\n",
    "#Cross entropy cost/Loss\n",
    "#cost = tf.reduce_mean(-tf.reduce_sum(Y * tf.log(hypothesis), axis=1)\n",
    "#위와 아래는 동일한 형태 \n",
    "#cost_i = tf.nn.softmax_cross_entropy_with_logits_v2(logits = logits, labels = Y_one_hot)\n",
    "#cost = tf.reduce_mean(cost_i)"
   ]
  },
  {
   "cell_type": "code",
   "execution_count": 14,
   "metadata": {},
   "outputs": [
    {
     "name": "stdout",
     "output_type": "stream",
     "text": [
      "Loss & Acc at 1 epoch 6.835903167724609, 0.029702970758080482\n",
      "Loss & Acc at 50 epoch 1.240546703338623, 0.5841584205627441\n",
      "Loss & Acc at 100 epoch 0.7315587997436523, 0.8316831588745117\n",
      "Loss & Acc at 150 epoch 0.5447908639907837, 0.8415841460227966\n",
      "Loss & Acc at 200 epoch 0.4394492208957672, 0.8514851331710815\n",
      "Loss & Acc at 250 epoch 0.370327889919281, 0.8514851331710815\n",
      "Loss & Acc at 300 epoch 0.3202953636646271, 0.8811880946159363\n",
      "Loss & Acc at 350 epoch 0.28214067220687866, 0.9009901285171509\n",
      "Loss & Acc at 400 epoch 0.252076119184494, 0.9009901285171509\n",
      "Loss & Acc at 450 epoch 0.22780658304691315, 0.9405940771102905\n",
      "Loss & Acc at 500 epoch 0.20782920718193054, 0.9603960514068604\n"
     ]
    }
   ],
   "source": [
    "#predicting animal type based on various features\n",
    "xy = np.loadtxt('data-04-zoo.csv', delimiter=',', dtype=np.float32)\n",
    "x_data = xy[:, 0:-1]\n",
    "y_data = xy[:, -1]\n",
    "\n",
    "nb_classes = 7 #0~6\n",
    "#tf.one_hot이라는 기능을 통해 원핫으로 변경\n",
    "#Y_one_hot = tf.one_hot(list(y_dataclasses)) #이러면 에러가 생김. \n",
    "#랭크가 N이면 아웃풋은 N+1, 1차원의 데이터를 2차원으로 크게 만들기 때문\n",
    "#Y_one_hot = tf.reshape(Y_one_hot, [-1, nb_classes]) #shape 변형\n",
    "\n",
    "# Make Y data as onehot shape\n",
    "Y_one_hot = tf.one_hot(y_data.astype(np.int32), nb_classes)\n",
    "#print(x_data.shape, Y_one_hot.shape)\n",
    "\n",
    "#weight and bias setting\n",
    "\n",
    "W = tf.Variable(tf.random.normal([16, nb_classes], name = 'weight'))\n",
    "b = tf.Variable(tf.random.normal([nb_classes], name='bias'))\n",
    "variables = [W, b]\n",
    "\n",
    "#tf.nn.softmax computes softmax activations\n",
    "\n",
    "def logit_fn(X) : \n",
    "    return tf.matmul(X, W) + b\n",
    "\n",
    "def hypothesis(X) : \n",
    "    return tf.nn.softmax(logit_fn(X))\n",
    "\n",
    "def cost_fn(X, Y) : \n",
    "    logits = logit_fn(X)\n",
    "    #cost_i = tf.nn.softmax_cross_entropy_with_logits_v2(logits = logits, labels = Y_one_hot)\n",
    "    cost_i = tf.keras.losses.categorical_crossentropy(y_true=Y, y_pred=logits, from_logits=True) \n",
    "    cost = tf.reduce_mean(cost_i)\n",
    "    \n",
    "    return cost\n",
    "\n",
    "def grad_fn(X, Y) :\n",
    "    with tf.GradientTape() as tape : \n",
    "        loss = cost_fn(X, Y)\n",
    "        grads = tape.gradient(loss, variables) # W, b\n",
    "        return grads\n",
    "    \n",
    "\n",
    "def prediction (X, Y) : \n",
    "    pred = tf.argmax(hypothesis(X), 1)\n",
    "    correct_prediction = tf.equal(pred, tf.argmax(Y, 1))\n",
    "    accuracy = tf.reduce_mean(tf.cast(correct_prediction, tf.float32))\n",
    "    return accuracy\n",
    "\n",
    "def fit (X, Y, epochs = 500, verbose=50) : \n",
    "    #optimizer = tf.train.GradientDescentOptimizer(learning_rate = 0.1)\n",
    "    optimizer =  tf.keras.optimizers.SGD(learning_rate=0.1)\n",
    "    for i in range(epochs) :\n",
    "        grads = grad_fn (X,Y)\n",
    "        optimizer.apply_gradients(zip(grads, variables))\n",
    "        if (i==0) | ((i+1)%verbose==0) : \n",
    "            acc = prediction(X, Y).numpy()\n",
    "            loss = tf.reduce_sum(cost_fn(X, Y)).numpy()\n",
    "            print('Loss & Acc at {} epoch {}, {}'.format(i+1, loss, acc))\n",
    "            #print('Steps: {} Loss: {}, Acc: {}'.format(i+1, loss, acc))\n",
    "\n",
    "fit (x_data, Y_one_hot)\n",
    "            \n",
    "\n"
   ]
  },
  {
   "cell_type": "code",
   "execution_count": 10,
   "metadata": {},
   "outputs": [
    {
     "name": "stdout",
     "output_type": "stream",
     "text": [
      "2.3.0\n",
      "(101, 16) (101, 7)\n",
      "Steps: 1 Loss: 3.635028839111328, Acc: 0.1683168262243271\n",
      "Steps: 100 Loss: 0.5194157958030701, Acc: 0.7920792102813721\n",
      "Steps: 200 Loss: 0.31850093603134155, Acc: 0.9108911156654358\n",
      "Steps: 300 Loss: 0.23534879088401794, Acc: 0.9405940771102905\n",
      "Steps: 400 Loss: 0.1887214034795761, Acc: 0.9504950642585754\n",
      "Steps: 500 Loss: 0.158460333943367, Acc: 0.9504950642585754\n",
      "Steps: 600 Loss: 0.13703756034374237, Acc: 0.9900990128517151\n",
      "Steps: 700 Loss: 0.12098980695009232, Acc: 0.9900990128517151\n",
      "Steps: 800 Loss: 0.10847963392734528, Acc: 1.0\n",
      "Steps: 900 Loss: 0.09843038767576218, Acc: 1.0\n",
      "Steps: 1000 Loss: 0.09016557037830353, Acc: 1.0\n"
     ]
    }
   ],
   "source": []
  },
  {
   "cell_type": "code",
   "execution_count": null,
   "metadata": {},
   "outputs": [],
   "source": []
  }
 ],
 "metadata": {
  "kernelspec": {
   "display_name": "Python 3",
   "language": "python",
   "name": "python3"
  },
  "language_info": {
   "codemirror_mode": {
    "name": "ipython",
    "version": 3
   },
   "file_extension": ".py",
   "mimetype": "text/x-python",
   "name": "python",
   "nbconvert_exporter": "python",
   "pygments_lexer": "ipython3",
   "version": "3.8.5"
  }
 },
 "nbformat": 4,
 "nbformat_minor": 4
}
