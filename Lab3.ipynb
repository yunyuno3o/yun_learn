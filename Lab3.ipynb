{
 "cells": [
  {
   "cell_type": "code",
   "execution_count": 2,
   "metadata": {},
   "outputs": [
    {
     "name": "stdout",
     "output_type": "stream",
     "text": [
      "-3.000 |   74.66667\n",
      "-2.429 |   54.85714\n",
      "-1.857 |   38.09524\n",
      "-1.286 |   24.38095\n",
      "-0.714 |   13.71429\n",
      "-0.143 |    6.09524\n",
      " 0.429 |    1.52381\n",
      " 1.000 |    0.00000\n",
      " 1.571 |    1.52381\n",
      " 2.143 |    6.09524\n",
      " 2.714 |   13.71429\n",
      " 3.286 |   24.38095\n",
      " 3.857 |   38.09524\n",
      " 4.429 |   54.85714\n",
      " 5.000 |   74.66667\n"
     ]
    }
   ],
   "source": [
    "import tensorflow as tf\n",
    "import numpy as np\n",
    "\n",
    "X = np.array ([1, 2, 3])\n",
    "Y = np.array([1, 2, 3])\n",
    "\n",
    "def cost_func(W, X, Y):\n",
    "    c = 0\n",
    "    for i in range(len(X)) : \n",
    "        c += (W * X[i] - Y[i]) ** 2\n",
    "    return c / len(X)\n",
    "\n",
    "for feed_W in np.linspace(-3, 5, num=15) : \n",
    "    curr_cost = cost_func(feed_W, X, Y)\n",
    "    print(\"{:6.3f} | {:10.5f}\".format(feed_W, curr_cost))"
   ]
  },
  {
   "cell_type": "code",
   "execution_count": 3,
   "metadata": {},
   "outputs": [
    {
     "name": "stdout",
     "output_type": "stream",
     "text": [
      "-3.000 |   74.66667\n",
      "-2.429 |   54.85714\n",
      "-1.857 |   38.09524\n",
      "-1.286 |   24.38095\n",
      "-0.714 |   13.71429\n",
      "-0.143 |    6.09524\n",
      " 0.429 |    1.52381\n",
      " 1.000 |    0.00000\n",
      " 1.571 |    1.52381\n",
      " 2.143 |    6.09524\n",
      " 2.714 |   13.71429\n",
      " 3.286 |   24.38095\n",
      " 3.857 |   38.09524\n",
      " 4.429 |   54.85714\n",
      " 5.000 |   74.66667\n"
     ]
    }
   ],
   "source": [
    "X = np.array([1, 2, 3])\n",
    "Y = np.array([1, 2, 3])\n",
    "\n",
    "def cost_func(W, X, Y):\n",
    "  hypothesis = X * W\n",
    "  return tf.reduce_mean(tf.square(hypothesis - Y))\n",
    "\n",
    "W_values = np.linspace(-3, 5, num=15)\n",
    "cost_values = []\n",
    "\n",
    "for feed_W in W_values:\n",
    "    curr_cost = cost_func(feed_W, X, Y)\n",
    "    cost_values.append(curr_cost)\n",
    "    print(\"{:6.3f} | {:10.5f}\".format(feed_W, curr_cost))"
   ]
  },
  {
   "cell_type": "code",
   "execution_count": 10,
   "metadata": {},
   "outputs": [
    {
     "name": "stdout",
     "output_type": "stream",
     "text": [
      "    0 | 296602.0000 | -239.341309\n",
      "   10 | 114043.2500 | -148.030853\n",
      "   20 | 43849.5508 | -91.411064\n",
      "   30 | 16860.1250 | -56.302261\n",
      "   40 |  6482.7065 | -34.531994\n",
      "   50 |  2492.5959 | -21.032681\n",
      "   60 |   958.4014 | -12.662025\n",
      "   70 |   368.5046 |  -7.471550\n",
      "   80 |   141.6898 |  -4.253039\n",
      "   90 |    54.4796 |  -2.257305\n",
      "  100 |    20.9474 |  -1.019790\n",
      "  110 |     8.0543 |  -0.252431\n",
      "  120 |     3.0969 |   0.223392\n",
      "  130 |     1.1907 |   0.518441\n",
      "  140 |     0.4578 |   0.701395\n",
      "  150 |     0.1760 |   0.814841\n",
      "  160 |     0.0677 |   0.885187\n",
      "  170 |     0.0260 |   0.928807\n",
      "  180 |     0.0100 |   0.955854\n",
      "  190 |     0.0038 |   0.972626\n",
      "  200 |     0.0015 |   0.983026\n",
      "  210 |     0.0006 |   0.989475\n",
      "  220 |     0.0002 |   0.993474\n",
      "  230 |     0.0001 |   0.995953\n",
      "  240 |     0.0000 |   0.997491\n",
      "  250 |     0.0000 |   0.998444\n",
      "  260 |     0.0000 |   0.999035\n",
      "  270 |     0.0000 |   0.999402\n",
      "  280 |     0.0000 |   0.999629\n",
      "  290 |     0.0000 |   0.999770\n"
     ]
    }
   ],
   "source": [
    "tf.random.set_seed(0) #for reproducibility, 2.x이므로 set_random_seed가 아니라 random.set_seed로 작성\n",
    "\n",
    "x_data = [1., 2., 3., 4.]\n",
    "y_data = [1., 3., 5., 7.]\n",
    "\n",
    "W = tf.Variable(tf.random.normal([1], -100. , -100.)) #random_normal -> random.normal\n",
    "#W = tf.Variable([5.0])\n",
    "for step in range (300) :\n",
    "    hypothesis = W * X\n",
    "    cost = tf.reduce_mean(tf.square(hypothesis - Y))\n",
    "    \n",
    "    alpha = 0.01\n",
    "    gradient = tf.reduce_mean(tf.multiply(tf.multiply(W, X) - Y, X))\n",
    "    descent = W - tf.multiply(alpha, gradient)\n",
    "    W.assign(descent)\n",
    "    \n",
    "    if step % 10 == 0 : \n",
    "        print(\"{:5} | {:10.4f} | {:10.6f}\".format(step, cost.numpy(), W.numpy()[0]))\n",
    "        \n",
    "    "
   ]
  },
  {
   "cell_type": "code",
   "execution_count": null,
   "metadata": {},
   "outputs": [],
   "source": []
  }
 ],
 "metadata": {
  "kernelspec": {
   "display_name": "Python 3",
   "language": "python",
   "name": "python3"
  },
  "language_info": {
   "codemirror_mode": {
    "name": "ipython",
    "version": 3
   },
   "file_extension": ".py",
   "mimetype": "text/x-python",
   "name": "python",
   "nbconvert_exporter": "python",
   "pygments_lexer": "ipython3",
   "version": "3.8.5"
  }
 },
 "nbformat": 4,
 "nbformat_minor": 4
}
