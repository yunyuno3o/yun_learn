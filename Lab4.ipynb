{
 "cells": [
  {
   "cell_type": "code",
   "execution_count": 8,
   "metadata": {},
   "outputs": [
    {
     "name": "stdout",
     "output_type": "stream",
     "text": [
      "    0 |   27111.8652\n",
      "   50 |     331.9589\n",
      "  100 |      34.7266\n",
      "  150 |      31.3463\n",
      "  200 |      31.2270\n",
      "  250 |      31.1440\n",
      "  300 |      31.0617\n",
      "  350 |      30.9797\n",
      "  400 |      30.8979\n",
      "  450 |      30.8163\n",
      "  500 |      30.7349\n",
      "  550 |      30.6537\n",
      "  600 |      30.5725\n",
      "  650 |      30.4916\n",
      "  700 |      30.4111\n",
      "  750 |      30.3309\n",
      "  800 |      30.2509\n",
      "  850 |      30.1710\n",
      "  900 |      30.0912\n",
      "  950 |      30.0116\n",
      " 1000 |      29.9323\n"
     ]
    }
   ],
   "source": [
    "import tensorflow as tf\n",
    "import numpy as np\n",
    "\n",
    "#data & label\n",
    "x1 = [ 73., 93., 89., 96., 73.]\n",
    "x2 = [80., 88., 91., 98., 66.]\n",
    "x3 = [75., 93., 90., 100., 70.]\n",
    "Y = [152., 185., 180., 196., 142.]\n",
    "\n",
    "#random weights \n",
    "w1 = tf.Variable(tf.random.normal([1]))\n",
    "w2 = tf.Variable(tf.random.normal([1])) \n",
    "w3 = tf.Variable(tf.random.normal([1]))\n",
    "b = tf.Variable(tf.random.normal([1]))\n",
    "\n",
    "learning_rate = 0.000001\n",
    "\n",
    "for i in range(1000+1):\n",
    "    #tf.GradientTape() to record the gradient of the cost function\n",
    "    with tf.GradientTape() as tape:\n",
    "        hypothesis = w1 * x1 + w2 * x2 + w3 * x3 + b\n",
    "        cost = tf.reduce_mean(tf.square(hypothesis - Y))\n",
    "    #calculates the gradients of the cost\n",
    "    w1_grad, w2_grad, w3_grad, b_grad = tape.gradient(cost, [w1, w2, w3, b])\n",
    "                \n",
    "    #update w1, w2, w3, and b\n",
    "    w1.assign_sub(learning_rate * w1_grad)\n",
    "    w2.assign_sub(learning_rate * w2_grad)\n",
    "    w3.assign_sub(learning_rate * w3_grad)\n",
    "    b.assign_sub(learning_rate * b_grad)\n",
    "\n",
    "    if i % 50 == 0:\n",
    "        print(\"{:5} | {:12.4f}\".format(i, cost.numpy()))"
   ]
  },
  {
   "cell_type": "code",
   "execution_count": 12,
   "metadata": {},
   "outputs": [
    {
     "name": "stdout",
     "output_type": "stream",
     "text": [
      "    0 |   191.9784\n",
      "  100 |     0.6747\n",
      "  200 |     0.6504\n",
      "  300 |     0.6497\n",
      "  400 |     0.6489\n",
      "  500 |     0.6482\n",
      "  600 |     0.6475\n",
      "  700 |     0.6468\n",
      "  800 |     0.6461\n",
      "  900 |     0.6453\n",
      " 1000 |     0.6446\n",
      " 1100 |     0.6439\n",
      " 1200 |     0.6432\n",
      " 1300 |     0.6425\n",
      " 1400 |     0.6418\n",
      " 1500 |     0.6411\n",
      " 1600 |     0.6404\n",
      " 1700 |     0.6397\n",
      " 1800 |     0.6390\n",
      " 1900 |     0.6384\n",
      " 2000 |     0.6377\n"
     ]
    }
   ],
   "source": [
    "data = np.array (\n",
    "#X1, X2, X3, y\n",
    "[[73., 80., 75., 152.], \n",
    "[93., 88., 93., 185.], \n",
    "[89., 91., 90., 180.], \n",
    "[96., 98., 100., 196.], \n",
    "[73., 66., 70., 142.]], dtype = np.float32)\n",
    "\n",
    "#slice data\n",
    "x = data[:, :-1]\n",
    "y = data [:, [-1]]\n",
    "\n",
    "W = tf.Variable(tf.random.normal([3, 1])) #원래는 따로따로 기술하던 것\n",
    "b = tf.Variable(tf.random.normal([1]))\n",
    "\n",
    "learning_rate = 0.000001\n",
    "\n",
    "#hypothesis, prediction function\n",
    "def predict(X):\n",
    "    return tf.matmul(X, W) + b #w*x + b\n",
    "\n",
    "n_epochs = 2000\n",
    "for i in range(n_epochs+1) :\n",
    "    #record the gradient of the cost function\n",
    "    with tf.GradientTape() as tape : \n",
    "        cost = tf.reduce_mean(tf.square(predict(x) - y))\n",
    "    \n",
    "    #calculates the gradients of the loss\n",
    "    W_grad, b_grad = tape.gradient(cost, [W, b])\n",
    "    \n",
    "    #updates parameters (W and b)\n",
    "    W.assign_sub(learning_rate * W_grad)\n",
    "    b.assign_sub(learning_rate * b_grad)\n",
    "    \n",
    "    if i % 100 == 0:\n",
    "        print(\"{:5} | {:10.4f}\".format(i, cost.numpy()))"
   ]
  },
  {
   "cell_type": "code",
   "execution_count": null,
   "metadata": {},
   "outputs": [],
   "source": []
  }
 ],
 "metadata": {
  "kernelspec": {
   "display_name": "Python 3",
   "language": "python",
   "name": "python3"
  },
  "language_info": {
   "codemirror_mode": {
    "name": "ipython",
    "version": 3
   },
   "file_extension": ".py",
   "mimetype": "text/x-python",
   "name": "python",
   "nbconvert_exporter": "python",
   "pygments_lexer": "ipython3",
   "version": "3.8.5"
  }
 },
 "nbformat": 4,
 "nbformat_minor": 4
}
